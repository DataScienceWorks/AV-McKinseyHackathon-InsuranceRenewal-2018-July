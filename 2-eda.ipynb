{
 "cells": [
  {
   "cell_type": "markdown",
   "metadata": {},
   "source": [
    "# EDA - Exploratory Data Analysis"
   ]
  },
  {
   "cell_type": "code",
   "execution_count": null,
   "metadata": {},
   "outputs": [],
   "source": [
    "%matplotlib inline\n",
    "import matplotlib.pyplot as plt\n",
    "import numpy as np\n",
    "import pandas as pd\n",
    "import seaborn as sns\n",
    "sns.set()\n",
    "plt.style.use('seaborn-bright')\n",
    "# print(plt.style.available)"
   ]
  },
  {
   "cell_type": "code",
   "execution_count": null,
   "metadata": {
    "scrolled": true
   },
   "outputs": [],
   "source": [
    "# df = pd.read_csv('data/train_processed_1.csv', index_col='id')\n",
    "df = pd.read_csv('data/train_processed_1.csv')\n",
    "df.head()"
   ]
  },
  {
   "cell_type": "markdown",
   "metadata": {},
   "source": [
    "## Processing: Income Column"
   ]
  },
  {
   "cell_type": "code",
   "execution_count": null,
   "metadata": {},
   "outputs": [],
   "source": [
    "print('Min income',df['income'].min())\n",
    "print('Max income',df['income'].max())\n",
    "print(df['income'].describe())\n",
    "\n",
    "df['income_log'] = df['income'].apply(np.log).round(2)\n",
    "print('income log sample data:\\n',df['income_log'].head())\n",
    "print('Min income',df['income_log'].min())\n",
    "print('Max income',df['income_log'].max())\n",
    "print(df['income_log'].describe())"
   ]
  },
  {
   "cell_type": "code",
   "execution_count": null,
   "metadata": {},
   "outputs": [],
   "source": [
    "df['income_log'].hist()"
   ]
  },
  {
   "cell_type": "code",
   "execution_count": null,
   "metadata": {
    "scrolled": true
   },
   "outputs": [],
   "source": [
    "df['income'] = df['income_log']\n",
    "df.drop('income_log',axis=1,inplace=True)\n",
    "df.head()"
   ]
  },
  {
   "cell_type": "code",
   "execution_count": null,
   "metadata": {},
   "outputs": [],
   "source": [
    "df['age_in_yrs'].hist()"
   ]
  },
  {
   "cell_type": "code",
   "execution_count": null,
   "metadata": {},
   "outputs": [],
   "source": [
    "df['age_in_yrs'].describe()"
   ]
  },
  {
   "cell_type": "code",
   "execution_count": null,
   "metadata": {},
   "outputs": [],
   "source": [
    "from sklearn import preprocessing\n",
    "data_scalar = preprocessing.MinMaxScaler()\n",
    "df['age_in_yrs'] = data_scalar.fit_transform(df[['age_in_yrs']]).flatten()\n",
    "df['age_in_yrs'].hist()\n",
    "df.head()"
   ]
  },
  {
   "cell_type": "code",
   "execution_count": null,
   "metadata": {},
   "outputs": [],
   "source": [
    "df['age_in_yrs'].round(3).hist() # minmost  value that retains the plot shape\n",
    "df['age_in_yrs'] = df['age_in_yrs'].round(3)\n",
    "df.head()"
   ]
  },
  {
   "cell_type": "code",
   "execution_count": null,
   "metadata": {},
   "outputs": [],
   "source": [
    "df['application_underwriting_score'].hist()"
   ]
  },
  {
   "cell_type": "code",
   "execution_count": null,
   "metadata": {},
   "outputs": [],
   "source": [
    "df['application_underwriting_score'] = data_scalar.fit_transform(df[['application_underwriting_score']]).flatten().round(3)\n",
    "df['application_underwriting_score'].hist()\n",
    "df.head()"
   ]
  },
  {
   "cell_type": "code",
   "execution_count": null,
   "metadata": {},
   "outputs": [],
   "source": [
    "df['no_of_premiums_paid'].hist()\n",
    "df['no_of_premiums_paid'].describe()"
   ]
  },
  {
   "cell_type": "code",
   "execution_count": null,
   "metadata": {},
   "outputs": [],
   "source": [
    "#  tmp = data_scalar.fit_transform(df[['no_of_premiums_paid']]).flatten().round(2)\n",
    "# pd.Series(tmp).hist()\n",
    "df['no_of_premiums_paid'] = data_scalar.fit_transform(df[['no_of_premiums_paid']]).flatten().round(2)\n",
    "df['no_of_premiums_paid'].hist()\n",
    "df.head()"
   ]
  },
  {
   "cell_type": "code",
   "execution_count": null,
   "metadata": {},
   "outputs": [],
   "source": [
    "df['premium'].hist()"
   ]
  },
  {
   "cell_type": "code",
   "execution_count": null,
   "metadata": {},
   "outputs": [],
   "source": [
    "tmp = data_scalar.fit_transform(df[['premium']]).flatten().round(2)\n",
    "pd.Series(tmp).hist()"
   ]
  },
  {
   "cell_type": "code",
   "execution_count": null,
   "metadata": {},
   "outputs": [],
   "source": [
    "# tmp2 = np.log(df['premium'])\n",
    "# pd.Series(tmp2).hist()\n",
    "df['premium'] = df['premium'].apply(np.log).round(4)\n",
    "df['premium'].hist()\n",
    "df.head()"
   ]
  },
  {
   "cell_type": "code",
   "execution_count": null,
   "metadata": {
    "scrolled": true
   },
   "outputs": [],
   "source": [
    "# df['age_in_yrs'].plot(kind='box')\n",
    "# df.boxplot(column='age_in_yrs', vert=False)"
   ]
  },
  {
   "cell_type": "code",
   "execution_count": null,
   "metadata": {},
   "outputs": [],
   "source": [
    "# age_bins = [0,40,50,60,80,110]\n",
    "# df['age_in_yrs'].value_counts(bins=age_bins)"
   ]
  },
  {
   "cell_type": "code",
   "execution_count": null,
   "metadata": {},
   "outputs": [],
   "source": [
    "# df['age_in_yrs'].hist(bins=age_bins, rwidth=.90)"
   ]
  },
  {
   "cell_type": "code",
   "execution_count": null,
   "metadata": {},
   "outputs": [],
   "source": [
    "# df.hist(column='income')\n",
    "# df['income'].plot(kind='hist', bins=10)\n",
    "# df['income'].value_counts(bins=10)"
   ]
  },
  {
   "cell_type": "code",
   "execution_count": null,
   "metadata": {},
   "outputs": [],
   "source": [
    "# print( df.no_of_premiums_paid.value_counts().head(5) )\n",
    "# print( df.no_of_premiums_paid.value_counts().tail(5) )"
   ]
  },
  {
   "cell_type": "code",
   "execution_count": null,
   "metadata": {},
   "outputs": [],
   "source": [
    "'''\n",
    "# Checking if the values in value_counts() are same even after transformation of keys\n",
    "res1 = df['count_3-6_months_late'].value_counts().values == df['count_3-6_months_late'].apply(np.log).round(2).value_counts().values\n",
    "res2 = df['count_6-12_months_late'].value_counts().values == df['count_6-12_months_late'].apply(np.log).round(2).value_counts().values\n",
    "res3 = df['count_more_than_12_months_late'].value_counts().values == df['count_more_than_12_months_late'].apply(np.log).round(2).value_counts().values\n",
    "print( np.all(res1) )\n",
    "print( np.all(res2) )\n",
    "print( np.all(res3) )\n",
    "# Because all looks good, lets go ahead and transform the  keys\n",
    "# Yikes!, this doesn't work because we havev -infinity values :(\n",
    "'''"
   ]
  },
  {
   "cell_type": "code",
   "execution_count": null,
   "metadata": {},
   "outputs": [],
   "source": [
    "# df['count_3-6_months_late'] = df['count_3-6_months_late'].apply(np.log).round(2)\n",
    "# df['count_6-12_months_late'] = df['count_6-12_months_late'].apply(np.log).round(2)\n",
    "# df['count_more_than_12_months_late'] = df['count_more_than_12_months_late'].apply(np.log).round(2)"
   ]
  },
  {
   "cell_type": "code",
   "execution_count": null,
   "metadata": {},
   "outputs": [],
   "source": []
  },
  {
   "cell_type": "code",
   "execution_count": null,
   "metadata": {},
   "outputs": [],
   "source": []
  },
  {
   "cell_type": "code",
   "execution_count": null,
   "metadata": {},
   "outputs": [],
   "source": []
  },
  {
   "cell_type": "code",
   "execution_count": null,
   "metadata": {},
   "outputs": [],
   "source": [
    "# Convert values to Percent in Crosstab, that is to be used sooner..\n",
    "def toPercent(ser):\n",
    "    s = ser/ser[-1]*100\n",
    "    return s"
   ]
  },
  {
   "cell_type": "code",
   "execution_count": null,
   "metadata": {
    "scrolled": true
   },
   "outputs": [],
   "source": [
    "# df[['residence_area_type','renewal']].groupby(by=['residence_area_type']).aggregate('mean').unstack()\n",
    "# df[['residence_area_type','renewal']].groupby(by=['residence_area_type']).aggregate(['mean','sum','count'])\n",
    "pd.crosstab(df['residence_area_type'], df['renewal'], margins=True)"
   ]
  },
  {
   "cell_type": "code",
   "execution_count": null,
   "metadata": {},
   "outputs": [],
   "source": [
    "pd.crosstab(df['residence_area_type'], df['renewal'], margins=True).apply(toPercent, axis=1)"
   ]
  },
  {
   "cell_type": "code",
   "execution_count": null,
   "metadata": {},
   "outputs": [],
   "source": [
    "df['sourcing_channel'].value_counts()"
   ]
  },
  {
   "cell_type": "code",
   "execution_count": null,
   "metadata": {
    "scrolled": true
   },
   "outputs": [],
   "source": [
    "sns.countplot(df['sourcing_channel'], label='Count')"
   ]
  },
  {
   "cell_type": "code",
   "execution_count": null,
   "metadata": {},
   "outputs": [],
   "source": [
    "pd.crosstab(df['sourcing_channel'], df['renewal'], margins=True)"
   ]
  },
  {
   "cell_type": "code",
   "execution_count": null,
   "metadata": {},
   "outputs": [],
   "source": [
    "# Basic Collerogram\n",
    "# sns.pairplot(df, kind='reg')\n",
    "# plot.show()"
   ]
  },
  {
   "cell_type": "code",
   "execution_count": null,
   "metadata": {},
   "outputs": [],
   "source": [
    "# Basic Collerogram\n",
    "# sns.pairplot(df, kind='scatter', hue='renewal', markers=['o','s'])\n",
    "# plt.show()"
   ]
  },
  {
   "cell_type": "markdown",
   "metadata": {},
   "source": [
    "### Define Utility Method categorize(df)"
   ]
  },
  {
   "cell_type": "code",
   "execution_count": null,
   "metadata": {},
   "outputs": [],
   "source": [
    "# Feature Category : sourcing_channel, residence_area_type\n",
    "from sklearn import preprocessing\n",
    "\n",
    "def categorize(df):\n",
    "    '''\n",
    "    This method takes panda.dataframe having single category column as its data as param.\n",
    "    It then does apply sklearn.preprocessing.LabelEncoder() on the category column\n",
    "    and then transforms singular category column into multiple columns using sklearn.preprocessing.OneHotEncoder()\n",
    "    '''\n",
    "    prefix = df.columns[0]+'_'\n",
    "    print('prefix :', prefix)\n",
    "    # Convert string values to numbers in target column\n",
    "    le = preprocessing.LabelEncoder()\n",
    "    df1 = df.apply(le.fit_transform)\n",
    "    new_cols = [prefix+c for c in le.classes_]\n",
    "    # Split One Column As Many\n",
    "    enc = preprocessing.OneHotEncoder() # 1. Instantiate\n",
    "    arr2d = enc.fit_transform(df1).todense() # 2&3. Fit n Transform returns 2d-array as sparse Matrix\n",
    "    df2  = pd.DataFrame(arr2d, columns=new_cols) # Convert array-Matrix to Pandas' DataFrame\n",
    "    return df2    "
   ]
  },
  {
   "cell_type": "code",
   "execution_count": null,
   "metadata": {},
   "outputs": [],
   "source": [
    "# categorize(df[['sourcing_channel']]).head()\n",
    "tmp_df = categorize(df[['sourcing_channel']])\n",
    "df2 = df.join(tmp_df)\n",
    "df2.head()"
   ]
  },
  {
   "cell_type": "code",
   "execution_count": null,
   "metadata": {},
   "outputs": [],
   "source": [
    "tmp_df = categorize(df[['residence_area_type']])\n",
    "df3 = df2.join(tmp_df)\n",
    "df3.head()\n",
    "# Pipeline\n",
    "# Prediction"
   ]
  },
  {
   "cell_type": "code",
   "execution_count": null,
   "metadata": {},
   "outputs": [],
   "source": [
    "df4 = df3.drop(['sourcing_channel', 'residence_area_type'], axis=1)\n",
    "df4.head()"
   ]
  },
  {
   "cell_type": "code",
   "execution_count": null,
   "metadata": {},
   "outputs": [],
   "source": [
    "df4.columns"
   ]
  },
  {
   "cell_type": "code",
   "execution_count": null,
   "metadata": {},
   "outputs": [],
   "source": [
    "df4.columns = ['age_in_yrs', \n",
    "               'income', \n",
    "               'application_underwriting_score', \n",
    "               'premium',\n",
    "               'perc_premium_paid_by_cash_credit', \n",
    "               'no_of_premiums_paid',\n",
    "               'count_3-6_months_late', 'count_6-12_months_late', 'count_more_than_12_months_late', \n",
    "               'sourcing_channel_A', 'sourcing_channel_B', 'sourcing_channel_C', 'sourcing_channel_D', 'sourcing_channel_E', \n",
    "               'residence_area_type_Rural', 'residence_area_type_Urban',\n",
    "               'renewal']\n",
    "df4.head()"
   ]
  },
  {
   "cell_type": "code",
   "execution_count": null,
   "metadata": {},
   "outputs": [],
   "source": [
    "df4.to_csv('data/train_processed_2.csv', index=False)"
   ]
  },
  {
   "cell_type": "code",
   "execution_count": null,
   "metadata": {},
   "outputs": [],
   "source": []
  }
 ],
 "metadata": {
  "kernelspec": {
   "display_name": "Python 3",
   "language": "python",
   "name": "python3"
  },
  "language_info": {
   "codemirror_mode": {
    "name": "ipython",
    "version": 3
   },
   "file_extension": ".py",
   "mimetype": "text/x-python",
   "name": "python",
   "nbconvert_exporter": "python",
   "pygments_lexer": "ipython3",
   "version": "3.6.4"
  }
 },
 "nbformat": 4,
 "nbformat_minor": 2
}
