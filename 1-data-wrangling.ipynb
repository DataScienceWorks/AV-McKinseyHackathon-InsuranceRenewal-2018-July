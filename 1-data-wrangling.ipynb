{
 "cells": [
  {
   "cell_type": "markdown",
   "metadata": {},
   "source": [
    "# Data Wrangling/Cleansing"
   ]
  },
  {
   "cell_type": "markdown",
   "metadata": {},
   "source": [
    "### Data\n",
    "It contains training data for customers along with renewal premium status (Renewed or Not?)\n",
    "\n",
    "| **Variable**                     | **Definition**                                               |\n",
    "| -------------------------------- | ------------------------------------------------------------ |\n",
    "| id                               | Unique ID of the policy                                      |\n",
    "| perc_premium_paid_by_cash_credit | Percentage of premium amount paid by cash or credit card     |\n",
    "| age_in_days                      | Age in days of policy holder                                 |\n",
    "| Income                           | Monthly Income of policy holder                              |\n",
    "| Count_3-6_months_late            | No of premiums late by 3 to 6 months                         |\n",
    "| Count_6-12_months_late           | No  of premiums late by 6 to 12 months                       |\n",
    "| Count_more_than_12_months_late   | No of premiums late by more than 12 months                   |\n",
    "| application_underwriting_score   | Underwriting Score of the applicant at the time of application (No applications under the score of 90 are insured) |\n",
    "| no_of_premiums_paid              | Total premiums paid on time till now                         |\n",
    "| sourcing_channel                 | Sourcing channel for application                             |\n",
    "| residence_area_type              | Area type of Residence (Urban/Rural)                         |\n",
    "| premium                          | Monthly premium amount                                       |\n",
    "| renewal                          | Policy Renewed? (0 - not renewed, 1 - renewed                |\n"
   ]
  },
  {
   "cell_type": "code",
   "execution_count": null,
   "metadata": {},
   "outputs": [],
   "source": [
    "%matplotlib inline\n",
    "import matplotlib.pyplot as plt\n",
    "import numpy as np\n",
    "import pandas as pd\n",
    "import seaborn as sns\n",
    "sns.set()"
   ]
  },
  {
   "cell_type": "code",
   "execution_count": null,
   "metadata": {},
   "outputs": [],
   "source": [
    "df = pd.read_csv('data/train.csv', index_col='id')\n",
    "df.shape"
   ]
  },
  {
   "cell_type": "code",
   "execution_count": null,
   "metadata": {},
   "outputs": [],
   "source": [
    "df.head()"
   ]
  },
  {
   "cell_type": "code",
   "execution_count": null,
   "metadata": {},
   "outputs": [],
   "source": [
    "df.columns.values"
   ]
  },
  {
   "cell_type": "code",
   "execution_count": null,
   "metadata": {},
   "outputs": [],
   "source": [
    "df.dtypes"
   ]
  },
  {
   "cell_type": "code",
   "execution_count": null,
   "metadata": {},
   "outputs": [],
   "source": [
    "# df = df.drop(['id'], axis=1)\n",
    "# df.head(5)"
   ]
  },
  {
   "cell_type": "code",
   "execution_count": null,
   "metadata": {},
   "outputs": [],
   "source": [
    "df = df.rename(columns={'Income':'income',\n",
    "                   'Count_3-6_months_late':'count_3-6_months_late', \n",
    "                   'Count_6-12_months_late':'count_6-12_months_late',\n",
    "                   'Count_more_than_12_months_late':'count_more_than_12_months_late'\n",
    "                  })\n",
    "df.head(5)"
   ]
  },
  {
   "cell_type": "code",
   "execution_count": null,
   "metadata": {},
   "outputs": [],
   "source": [
    "# Various Sourcing Channels\n",
    "sorted( df.sourcing_channel.unique() )"
   ]
  },
  {
   "cell_type": "code",
   "execution_count": null,
   "metadata": {},
   "outputs": [],
   "source": [
    "# Various Residencec Area Type\n",
    "sorted( df.residence_area_type.unique() )"
   ]
  },
  {
   "cell_type": "code",
   "execution_count": null,
   "metadata": {},
   "outputs": [],
   "source": [
    "# Check for null values\n",
    "df.isnull().sum()"
   ]
  },
  {
   "cell_type": "code",
   "execution_count": null,
   "metadata": {},
   "outputs": [],
   "source": [
    "df.loc[ df['count_more_than_12_months_late'].isnull() ].head(10)"
   ]
  },
  {
   "cell_type": "markdown",
   "metadata": {},
   "source": [
    "#### Pre-processing 1 : Convert age from days to years"
   ]
  },
  {
   "cell_type": "code",
   "execution_count": null,
   "metadata": {},
   "outputs": [],
   "source": [
    "df['age_in_yrs'] = (df['age_in_days'] / 365).astype(int)\n",
    "df.head()"
   ]
  },
  {
   "cell_type": "code",
   "execution_count": null,
   "metadata": {},
   "outputs": [],
   "source": [
    "# rearrange columns\n",
    "df = df[['age_in_days',\n",
    "    'age_in_yrs',     \n",
    "    'income',\n",
    "    'application_underwriting_score',\n",
    "    'premium',\n",
    "    'perc_premium_paid_by_cash_credit',\n",
    "    'no_of_premiums_paid',\n",
    "    'count_3-6_months_late', 'count_6-12_months_late', 'count_more_than_12_months_late', \n",
    "    'sourcing_channel', \n",
    "    'residence_area_type',\n",
    "    'renewal']]\n",
    "df.head()"
   ]
  },
  {
   "cell_type": "code",
   "execution_count": null,
   "metadata": {},
   "outputs": [],
   "source": [
    "# Drop column 'age_in_days'\n",
    "df.drop('age_in_days', axis=1, inplace=True)\n",
    "df.head()"
   ]
  },
  {
   "cell_type": "code",
   "execution_count": null,
   "metadata": {},
   "outputs": [],
   "source": [
    "# Per Problem Statement: Underwriting Score of the applicant at the time of application \n",
    "# (No applications under the score of 90 are insured)\n",
    "df[df['application_underwriting_score']<90].shape[0] == 0"
   ]
  },
  {
   "cell_type": "code",
   "execution_count": null,
   "metadata": {},
   "outputs": [],
   "source": [
    "def isNull(df,cols):\n",
    "    mask = False\n",
    "    for c in cols:\n",
    "        mask = mask | (df[c].isnull())\n",
    "    return mask\n",
    "\n",
    "null_delay_pay = df.loc[ isNull(df,['count_3-6_months_late', 'count_6-12_months_late', 'count_more_than_12_months_late']) ]\n",
    "# null_delay_pay"
   ]
  },
  {
   "cell_type": "code",
   "execution_count": null,
   "metadata": {},
   "outputs": [],
   "source": [
    "tmp = df.loc[ (~df['count_3-6_months_late'].isnull()) & (df['no_of_premiums_paid']<=2) ]\n",
    "print(tmp['count_3-6_months_late'].median())\n",
    "print(tmp['count_6-12_months_late'].median())\n",
    "print(tmp['count_more_than_12_months_late'].median())"
   ]
  },
  {
   "cell_type": "markdown",
   "metadata": {},
   "source": [
    "#### Pre-processing 2: Imputating delayed premium payments count columns with median value ZERO."
   ]
  },
  {
   "cell_type": "code",
   "execution_count": null,
   "metadata": {},
   "outputs": [],
   "source": [
    "# Imputating delayed premium payments count columns with median value ZERO.\n",
    "tmp = df[['count_3-6_months_late', 'count_6-12_months_late', 'count_more_than_12_months_late']].fillna(0)\n",
    "df.update(tmp)\n",
    "df.isnull().sum()"
   ]
  },
  {
   "cell_type": "code",
   "execution_count": null,
   "metadata": {},
   "outputs": [],
   "source": [
    "print(df['application_underwriting_score'].mean())\n",
    "print(df['application_underwriting_score'].median())\n",
    "print(df['application_underwriting_score'].mode())"
   ]
  },
  {
   "cell_type": "markdown",
   "metadata": {},
   "source": [
    "#### Pre-processing 3: Imputating application_underwriting_score with mode (highest frequency value)"
   ]
  },
  {
   "cell_type": "code",
   "execution_count": null,
   "metadata": {},
   "outputs": [],
   "source": [
    "# Imputating application_underwriting_score with mode (highest frequency value)\n",
    "df.update( df['application_underwriting_score'].fillna(99.89) ) # Filling with mode value\n",
    "df.isnull().sum()"
   ]
  },
  {
   "cell_type": "code",
   "execution_count": null,
   "metadata": {},
   "outputs": [],
   "source": [
    "print( sorted( df['no_of_premiums_paid'].unique() ) )"
   ]
  },
  {
   "cell_type": "code",
   "execution_count": null,
   "metadata": {},
   "outputs": [],
   "source": [
    "df.head()"
   ]
  },
  {
   "cell_type": "code",
   "execution_count": null,
   "metadata": {},
   "outputs": [],
   "source": [
    "df = df.reset_index()\n",
    "df.drop('id', axis=1, inplace=True)\n",
    "df.head()"
   ]
  },
  {
   "cell_type": "code",
   "execution_count": null,
   "metadata": {},
   "outputs": [],
   "source": [
    "df.to_csv('data/train_processed_1.csv', index=False)"
   ]
  },
  {
   "cell_type": "markdown",
   "metadata": {},
   "source": [
    "## Summary\n",
    "\n",
    "Note the columns are re-ordered for convenience.\n",
    "\n",
    "Renaming of columns\n",
    "\n",
    "Following pre-procecssing activities are done as part of this deliverable/notebook\n",
    "1. Convert age from days to years\n",
    "2. Imputation of 3 delayed premium payments columns with its median value of Zero\n",
    "3. Imputation of 'application_undedrwriting_score' with its mode/highest-frequency value of 99.89\n",
    "\n",
    "Following columns are dropped\n",
    "1. id\n",
    "2. age_in_days (age_in_yrs is added instead)"
   ]
  },
  {
   "cell_type": "code",
   "execution_count": null,
   "metadata": {},
   "outputs": [],
   "source": []
  }
 ],
 "metadata": {
  "kernelspec": {
   "display_name": "Python 3",
   "language": "python",
   "name": "python3"
  },
  "language_info": {
   "codemirror_mode": {
    "name": "ipython",
    "version": 3
   },
   "file_extension": ".py",
   "mimetype": "text/x-python",
   "name": "python",
   "nbconvert_exporter": "python",
   "pygments_lexer": "ipython3",
   "version": "3.6.4"
  }
 },
 "nbformat": 4,
 "nbformat_minor": 2
}
